{
 "cells": [
  {
   "cell_type": "code",
   "execution_count": 1,
   "id": "53f4abd6-4aa8-4e46-837f-d17a03a2cbfd",
   "metadata": {},
   "outputs": [],
   "source": [
    "using Gridap\n",
    "using GridapGmsh"
   ]
  },
  {
   "cell_type": "code",
   "execution_count": 7,
   "id": "00bedb88-4692-4973-bfca-abf30e1552de",
   "metadata": {},
   "outputs": [
    {
     "name": "stdout",
     "output_type": "stream",
     "text": [
      "Info    : Reading 'cascara_10_4.msh'...\n",
      "Info    : 13 entities\n",
      "Info    : 7161 nodes\n",
      "Info    : 39355 elements\n",
      "Info    : Done reading 'cascara_10_4.msh'\n"
     ]
    },
    {
     "data": {
      "text/plain": [
       "UnstructuredDiscreteModel()"
      ]
     },
     "execution_count": 7,
     "metadata": {},
     "output_type": "execute_result"
    }
   ],
   "source": [
    "model = GmshDiscreteModel(\"cascara_10_4.msh\")\n",
    "#model = GmshDiscreteModel(\"cascara_10_2.msh\")\n",
    "#fn = \"model.json\"\n",
    "#to_json_file(model,fn)"
   ]
  },
  {
   "cell_type": "code",
   "execution_count": 8,
   "id": "324057cc-0e9f-43c9-901a-8e778fade775",
   "metadata": {},
   "outputs": [
    {
     "data": {
      "text/plain": [
       "UnstructuredGrid()"
      ]
     },
     "execution_count": 8,
     "metadata": {},
     "output_type": "execute_result"
    }
   ],
   "source": [
    "order = 1\n",
    "reffe = ReferenceFE(lagrangian,Float64,order)\n",
    "#V = TestFESpace(model,reffe,dirichlet_tags=[\"int\",\"ext\"])\n",
    "V = TestFESpace(model,reffe;conformity=:H1,dirichlet_tags=\"int\")\n",
    "Ω = Triangulation(model)"
   ]
  },
  {
   "cell_type": "code",
   "execution_count": 9,
   "id": "7131611e-427f-41a6-9f9c-e7bed8ebbf05",
   "metadata": {},
   "outputs": [
    {
     "data": {
      "text/plain": [
       "([\"sphere.vtu\"],)"
      ]
     },
     "execution_count": 9,
     "metadata": {},
     "output_type": "execute_result"
    }
   ],
   "source": [
    "writevtk(Ω,\"sphere\")"
   ]
  },
  {
   "cell_type": "code",
   "execution_count": 10,
   "id": "a003bb55-3d2b-48eb-8baf-e95be2ce32ee",
   "metadata": {},
   "outputs": [
    {
     "data": {
      "text/plain": [
       "TrialFESpace()"
      ]
     },
     "execution_count": 10,
     "metadata": {},
     "output_type": "execute_result"
    }
   ],
   "source": [
    "g = 2.0 # internal boundary condition\n",
    "U = TrialFESpace(V,g)"
   ]
  },
  {
   "cell_type": "code",
   "execution_count": 11,
   "id": "50551fc9-1188-476d-b1fb-fa79dc9bb354",
   "metadata": {},
   "outputs": [
    {
     "data": {
      "text/plain": [
       "Measure()"
      ]
     },
     "execution_count": 11,
     "metadata": {},
     "output_type": "execute_result"
    }
   ],
   "source": [
    "degree = 2\n",
    "dΩ = Measure(Ω,degree)"
   ]
  },
  {
   "cell_type": "code",
   "execution_count": 12,
   "id": "633ee1ed-8fa5-4a4b-920e-804a709627b0",
   "metadata": {},
   "outputs": [
    {
     "data": {
      "text/plain": [
       "Measure()"
      ]
     },
     "execution_count": 12,
     "metadata": {},
     "output_type": "execute_result"
    }
   ],
   "source": [
    "neumanntags = \"ext\"\n",
    "Γ = BoundaryTriangulation(model,tags=neumanntags)\n",
    "dΓ = Measure(Γ,degree)"
   ]
  },
  {
   "cell_type": "markdown",
   "id": "52042bdd-46d2-43b8-9a22-127bb04feb74",
   "metadata": {},
   "source": [
    "### Test 1: ###\n",
    "\n",
    "We first test with given boundary values: $\\phi = 2$ at $R_{min}$ and $\\nabla \\phi = \\frac{1}{R_{max}}$ at $R_{max}$. The solution is: \n",
    "\n",
    "$$\n",
    "\\phi(r) = \\frac{a}{r} + b \\;\\;\\;\\;\\;\\;\\; \\hat{n} \\cdot \\nabla \\phi = -\\frac{a}{r^2}\n",
    "$$ \n",
    "\n",
    "From which, $a = - R_{max}$ and $b = 2 + \\frac{R_{max}}{R_{min}}$\n",
    "\n",
    "This gives, $\\phi_{R_{max}} = 4.5$. And it is OK\n",
    "\n",
    "### Test 2: ###\n",
    "\n",
    "We now impose Robin BC. \n",
    "\n",
    "$$\n",
    "\\hat{n} \\cdot \\nabla \\phi = -\\frac{\\phi}{r} \\;\\;\\;\\; \\mbox{at} \\;\\; r = R_{max}\n",
    "$$\n",
    "\n",
    "For this case, $\\phi = \\frac{a}{r}$ and so, $\\phi(R_{min} = 2$ implies $a = 2R_{min}$, \n",
    "and so $ \\phi(R_{max}) = \\frac{2R_{min}}{R_{max}}$.\n",
    "\n",
    "Test2 passed! OK\n",
    "\n",
    "\n",
    "\n"
   ]
  },
  {
   "cell_type": "code",
   "execution_count": 31,
   "id": "c434bf6f-1c05-488e-bfbd-7566d04789f9",
   "metadata": {},
   "outputs": [
    {
     "data": {
      "text/plain": [
       "b (generic function with 1 method)"
      ]
     },
     "execution_count": 31,
     "metadata": {},
     "output_type": "execute_result"
    }
   ],
   "source": [
    "test1=false\n",
    "test2=true\n",
    "\n",
    "if test1\n",
    "    R_ext = 10.\n",
    "    R_int = 4.\n",
    "    f(x) = 0.0 # source\n",
    "    h(x) = 1.0/R_ext #external Neumann bc.\n",
    "    a(u,v) = ∫( ∇(v)⋅∇(u) )*dΩ\n",
    "    b(v) = ∫( v*f )*dΩ + ∫( v*h )*dΓ\n",
    "end\n",
    "\n",
    "if test2\n",
    "    R_ext = 10.\n",
    "    R_int = 4.\n",
    "    f(x) = 0.0 # source\n",
    "    h(x) = -1.0/R_ext #external Neumann bc.\n",
    "    a(u,v) = ∫( ∇(v)⋅∇(u) )*dΩ - ∫( v*h*u )*dΓ\n",
    "    b(v) = ∫( v*f )*dΩ \n",
    "end"
   ]
  },
  {
   "cell_type": "code",
   "execution_count": 32,
   "id": "4e0243ae-edad-4482-ac83-f1d5e65472d4",
   "metadata": {},
   "outputs": [
    {
     "data": {
      "text/plain": [
       "AffineFEOperator()"
      ]
     },
     "execution_count": 32,
     "metadata": {},
     "output_type": "execute_result"
    }
   ],
   "source": [
    "op = AffineFEOperator(a,b,U,V)\n"
   ]
  },
  {
   "cell_type": "code",
   "execution_count": 33,
   "id": "184abc43-17a5-48bf-8eec-eca50115b095",
   "metadata": {},
   "outputs": [
    {
     "data": {
      "text/plain": [
       "LinearFESolver()"
      ]
     },
     "execution_count": 33,
     "metadata": {},
     "output_type": "execute_result"
    }
   ],
   "source": [
    "ls = LUSolver()\n",
    "solver = LinearFESolver(ls)\n"
   ]
  },
  {
   "cell_type": "code",
   "execution_count": 34,
   "id": "35aa5aad-2a81-474b-8339-386e778fd696",
   "metadata": {},
   "outputs": [
    {
     "data": {
      "text/plain": [
       "SingleFieldFEFunction():\n",
       " num_cells: 33179\n",
       " DomainStyle: ReferenceDomain()\n",
       " Triangulation: UnstructuredGrid()\n",
       " Triangulation id: 2631304195112948753"
      ]
     },
     "execution_count": 34,
     "metadata": {},
     "output_type": "execute_result"
    }
   ],
   "source": [
    "uh = solve(solver,op)"
   ]
  },
  {
   "cell_type": "code",
   "execution_count": 35,
   "id": "7f505e4d-f430-444a-8b24-2112c458d8a3",
   "metadata": {},
   "outputs": [
    {
     "data": {
      "text/plain": [
       "([\"results_test2.vtu\"],)"
      ]
     },
     "execution_count": 35,
     "metadata": {},
     "output_type": "execute_result"
    }
   ],
   "source": [
    "writevtk(Ω,\"results_test2\",cellfields=[\"uh\"=>uh])"
   ]
  },
  {
   "cell_type": "code",
   "execution_count": null,
   "id": "3676b408-8a40-4ae8-bbc2-d576524e0b23",
   "metadata": {},
   "outputs": [],
   "source": []
  }
 ],
 "metadata": {
  "kernelspec": {
   "display_name": "Julia 1.6.1",
   "language": "julia",
   "name": "julia-1.6"
  },
  "language_info": {
   "file_extension": ".jl",
   "mimetype": "application/julia",
   "name": "julia",
   "version": "1.6.1"
  }
 },
 "nbformat": 4,
 "nbformat_minor": 5
}
