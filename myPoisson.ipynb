{
 "cells": [
  {
   "cell_type": "code",
   "execution_count": 1,
   "id": "53f4abd6-4aa8-4e46-837f-d17a03a2cbfd",
   "metadata": {},
   "outputs": [],
   "source": [
    "using Gridap\n",
    "using GridapGmsh"
   ]
  },
  {
   "cell_type": "code",
   "execution_count": 2,
   "id": "09445a75-f0cc-46ab-a2d5-8718c95b8f0d",
   "metadata": {},
   "outputs": [
    {
     "name": "stdout",
     "output_type": "stream",
     "text": [
      "Info    : Reading 'cascara_3.msh'...\n",
      "Info    : 13 entities\n",
      "Info    : 7156 nodes\n",
      "Info    : 39319 elements\n",
      "Info    : Done reading 'cascara_3.msh'\n"
     ]
    },
    {
     "data": {
      "text/plain": [
       "UnstructuredGrid()"
      ]
     },
     "execution_count": 2,
     "metadata": {},
     "output_type": "execute_result"
    }
   ],
   "source": [
    "model = GmshDiscreteModel(\"cascara_3.msh\")\n",
    "#model = GmshDiscreteModel(\"../../untitled.msh\")\n",
    "#fn = \"model.json\"\n",
    "#to_json_file(model,fn)\n",
    "\n",
    "order = 1\n",
    "reffe = ReferenceFE(lagrangian,Float64,order)\n",
    "#V = TestFESpace(model,reffe,dirichlet_tags=[\"int\",\"ext\"])\n",
    "V = TestFESpace(model,reffe;conformity=:H1,dirichlet_tags=\"int\")\n",
    "Ω = Triangulation(model)"
   ]
  },
  {
   "cell_type": "code",
   "execution_count": 3,
   "id": "7131611e-427f-41a6-9f9c-e7bed8ebbf05",
   "metadata": {},
   "outputs": [
    {
     "data": {
      "text/plain": [
       "([\"sphere.vtu\"],)"
      ]
     },
     "execution_count": 3,
     "metadata": {},
     "output_type": "execute_result"
    }
   ],
   "source": [
    "writevtk(Ω,\"sphere\")"
   ]
  },
  {
   "cell_type": "code",
   "execution_count": 4,
   "id": "a003bb55-3d2b-48eb-8baf-e95be2ce32ee",
   "metadata": {},
   "outputs": [
    {
     "data": {
      "text/plain": [
       "TrialFESpace()"
      ]
     },
     "execution_count": 4,
     "metadata": {},
     "output_type": "execute_result"
    }
   ],
   "source": [
    "g = 2.0\n",
    "U = TrialFESpace(V,g)"
   ]
  },
  {
   "cell_type": "code",
   "execution_count": 5,
   "id": "50551fc9-1188-476d-b1fb-fa79dc9bb354",
   "metadata": {},
   "outputs": [
    {
     "data": {
      "text/plain": [
       "Measure()"
      ]
     },
     "execution_count": 5,
     "metadata": {},
     "output_type": "execute_result"
    }
   ],
   "source": [
    "degree = 2\n",
    "dΩ = Measure(Ω,degree)"
   ]
  },
  {
   "cell_type": "code",
   "execution_count": 6,
   "id": "633ee1ed-8fa5-4a4b-920e-804a709627b0",
   "metadata": {},
   "outputs": [
    {
     "data": {
      "text/plain": [
       "Measure()"
      ]
     },
     "execution_count": 6,
     "metadata": {},
     "output_type": "execute_result"
    }
   ],
   "source": [
    "neumanntags = \"ext\"\n",
    "Γ = BoundaryTriangulation(model,tags=neumanntags)\n",
    "dΓ = Measure(Γ,degree)"
   ]
  },
  {
   "cell_type": "code",
   "execution_count": 7,
   "id": "c434bf6f-1c05-488e-bfbd-7566d04789f9",
   "metadata": {},
   "outputs": [
    {
     "data": {
      "text/plain": [
       "b (generic function with 1 method)"
      ]
     },
     "execution_count": 7,
     "metadata": {},
     "output_type": "execute_result"
    }
   ],
   "source": [
    "f(x) = 0.0\n",
    "h(x) = 1.0/10.0\n",
    "a(u,v) = ∫( ∇(v)⋅∇(u) )*dΩ\n",
    "b(v) = ∫( v*f )*dΩ + ∫( v*h )*dΓ"
   ]
  },
  {
   "cell_type": "code",
   "execution_count": 8,
   "id": "4e0243ae-edad-4482-ac83-f1d5e65472d4",
   "metadata": {},
   "outputs": [
    {
     "ename": "LoadError",
     "evalue": "UndefVarError: Ug not defined",
     "output_type": "error",
     "traceback": [
      "UndefVarError: Ug not defined",
      "",
      "Stacktrace:",
      " [1] top-level scope",
      "   @ In[8]:1",
      " [2] eval",
      "   @ ./boot.jl:360 [inlined]",
      " [3] include_string(mapexpr::typeof(REPL.softscope), mod::Module, code::String, filename::String)",
      "   @ Base ./loading.jl:1094"
     ]
    }
   ],
   "source": [
    "op = AffineFEOperator(a,b,Ug,V)\n"
   ]
  },
  {
   "cell_type": "code",
   "execution_count": 9,
   "id": "184abc43-17a5-48bf-8eec-eca50115b095",
   "metadata": {},
   "outputs": [
    {
     "data": {
      "text/plain": [
       "LinearFESolver()"
      ]
     },
     "execution_count": 9,
     "metadata": {},
     "output_type": "execute_result"
    }
   ],
   "source": [
    "ls = LUSolver()\n",
    "solver = LinearFESolver(ls)\n"
   ]
  },
  {
   "cell_type": "code",
   "execution_count": 10,
   "id": "35aa5aad-2a81-474b-8339-386e778fd696",
   "metadata": {},
   "outputs": [
    {
     "ename": "LoadError",
     "evalue": "UndefVarError: op not defined",
     "output_type": "error",
     "traceback": [
      "UndefVarError: op not defined",
      "",
      "Stacktrace:",
      " [1] top-level scope",
      "   @ In[10]:1",
      " [2] eval",
      "   @ ./boot.jl:360 [inlined]",
      " [3] include_string(mapexpr::typeof(REPL.softscope), mod::Module, code::String, filename::String)",
      "   @ Base ./loading.jl:1094"
     ]
    }
   ],
   "source": [
    "uh = solve(solver,op)"
   ]
  },
  {
   "cell_type": "code",
   "execution_count": 11,
   "id": "7f505e4d-f430-444a-8b24-2112c458d8a3",
   "metadata": {},
   "outputs": [
    {
     "ename": "LoadError",
     "evalue": "UndefVarError: uh not defined",
     "output_type": "error",
     "traceback": [
      "UndefVarError: uh not defined",
      "",
      "Stacktrace:",
      " [1] top-level scope",
      "   @ In[11]:1",
      " [2] eval",
      "   @ ./boot.jl:360 [inlined]",
      " [3] include_string(mapexpr::typeof(REPL.softscope), mod::Module, code::String, filename::String)",
      "   @ Base ./loading.jl:1094"
     ]
    }
   ],
   "source": [
    "writevtk(Ω,\"results\",cellfields=[\"uh\"=>uh])"
   ]
  },
  {
   "cell_type": "code",
   "execution_count": null,
   "id": "3676b408-8a40-4ae8-bbc2-d576524e0b23",
   "metadata": {},
   "outputs": [],
   "source": []
  }
 ],
 "metadata": {
  "kernelspec": {
   "display_name": "Julia 1.6.1",
   "language": "julia",
   "name": "julia-1.6"
  },
  "language_info": {
   "file_extension": ".jl",
   "mimetype": "application/julia",
   "name": "julia",
   "version": "1.6.1"
  }
 },
 "nbformat": 4,
 "nbformat_minor": 5
}
